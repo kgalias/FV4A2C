{
 "cells": [
  {
   "cell_type": "code",
   "execution_count": 13,
   "metadata": {
    "collapsed": true
   },
   "outputs": [],
   "source": [
    "import chainer\n",
    "from chainer import Variable\n",
    "from chainer import Chain\n",
    "import chainer.functions as F\n",
    "import chainer.links as L"
   ]
  },
  {
   "cell_type": "code",
   "execution_count": 1,
   "metadata": {
    "collapsed": true
   },
   "outputs": [],
   "source": [
    "%matplotlib inline\n",
    "import matplotlib.pyplot as plt\n",
    "\n",
    "import numpy as np"
   ]
  },
  {
   "cell_type": "code",
   "execution_count": 2,
   "metadata": {},
   "outputs": [
    {
     "name": "stdout",
     "output_type": "stream",
     "text": [
      "['NOOP', 'FIRE', 'RIGHT', 'LEFT']\n"
     ]
    },
    {
     "data": {
      "image/png": "[encoded data removed]",
      "text/plain": [
       "<matplotlib.figure.Figure at 0x7f49d0f17978>"
      ]
     },
     "metadata": {},
     "output_type": "display_data"
    }
   ],
   "source": [
    "import gym\n",
    "\n",
    "\n",
    "class RandomAgent(object):\n",
    "    \"\"\"The world's simplest agent!\"\"\"\n",
    "    def __init__(self, action_space):\n",
    "        self.action_space = action_space\n",
    "\n",
    "    def act(self, observation, reward, done):\n",
    "        return self.action_space.sample()\n",
    "\n",
    "env = gym.make('Breakout-v0')\n",
    "print(env.unwrapped.get_action_meanings())\n",
    "\n",
    "n_iter = 5\n",
    "agent = RandomAgent(env.action_space)\n",
    "obs = env.reset()  # reset environment and agent\n",
    "reward = None\n",
    "done = False\n",
    "R = []\n",
    "\n",
    "for step in range(n_iter):\n",
    "    plt.imshow(env.render(mode='rgb_array'))\n",
    "    action = agent.act(obs, reward, done)\n",
    "    _obs, reward, done, _ = env.step(action)\n",
    "    obs = _obs\n",
    "    R.append(reward)"
   ]
  },
  {
   "cell_type": "code",
   "execution_count": 12,
   "metadata": {},
   "outputs": [
    {
     "name": "stdout",
     "output_type": "stream",
     "text": [
      "Discrete(4)\n",
      "Box(210, 160, 3)\n",
      "[0 0 0]\n",
      "[255 255 255]\n"
     ]
    }
   ],
   "source": [
    "print(env.action_space)\n",
    "print(env.observation_space)\n",
    "print(env.observation_space.low[0][0])\n",
    "print(env.observation_space.high[0][0])"
   ]
  },
  {
   "cell_type": "code",
   "execution_count": null,
   "metadata": {
    "collapsed": true
   },
   "outputs": [],
   "source": []
  },
  {
   "cell_type": "code",
   "execution_count": null,
   "metadata": {
    "collapsed": true
   },
   "outputs": [],
   "source": [
    "def ActorCritic(chainer.Chain):\n",
    "    \n",
    "    def __init__(self):\n",
    "        pass\n",
    "    \n",
    "    def __call__(self, x):\n",
    "        pass\n",
    "        return pi_out, v_out\n"
   ]
  },
  {
   "cell_type": "code",
   "execution_count": 5,
   "metadata": {},
   "outputs": [
    {
     "data": {
      "text/plain": [
       "(3, 5, 2, 3)"
      ]
     },
     "execution_count": 5,
     "metadata": {},
     "output_type": "execute_result"
    }
   ],
   "source": [
    "obs_shape = (2,3)\n",
    "a = np.zeros([2 + 1, 5] + list(obs_shape))\n",
    "a.shape"
   ]
  },
  {
   "cell_type": "code",
   "execution_count": null,
   "metadata": {
    "collapsed": true
   },
   "outputs": [],
   "source": [
    "def A2CAgent():\n",
    "    \n",
    "    def __init__(model, n_steps):\n",
    "        \n",
    "        self.model = model\n",
    "        self.step = 0\n",
    "        self.n_steps = n_steps\n",
    "    \n",
    "    def _compute_reward(self):\n",
    "      \n",
    "    def _compute_returns(self, next_value):  # ?\n",
    "        self.returns[-1] = next_value\n",
    "        for i in reversed(range(self.update_steps)):\n",
    "            self.returns[i] = self.rewards[i] + \\\n",
    "                self.gamma * self.returns[i + 1] * self.masks[i]\n",
    "    \n",
    "    def _reset_storage(self):\n",
    "        \n",
    "#         self.states = self.xp.zeros(\n",
    "#             [self.update_steps + 1, self.num_processes] + list(obs_shape),\n",
    "#             dtype='f')\n",
    "#         self.actions = self.xp.zeros(\n",
    "#             [self.update_steps, self.num_processes] + list(action_shape),\n",
    "#             dtype=action.dtype)\n",
    "#         self.rewards = self.xp.zeros(\n",
    "#             (self.update_steps, self.num_processes, 1), dtype='f')\n",
    "#         self.value_preds = self.xp.zeros(\n",
    "#             (self.update_steps + 1, self.num_processes, 1), dtype='f')\n",
    "#         self.returns = self.xp.zeros(\n",
    "#             (self.update_steps + 1, self.num_processes, 1), dtype='f')\n",
    "\n",
    "        self.states = []\n",
    "        self.actions = []\n",
    "        self.rewards = []\n",
    "        self.value_preds = []\n",
    "        self.returns = []\n",
    "    \n",
    "    def update(self):\n",
    "        pass\n",
    "    \n",
    "    def act_and_train(self, state, reward, done):\n",
    "        \n",
    "#         statevar = self.batch_states([state], self.xp, self.phi)[0]\n",
    "        \n",
    "        if self.steps == 0:\n",
    "#             pout, _ = self.model.pi_and_v(statevar[0:1])\n",
    "#             action = pout.sample().data\n",
    "            self._reset_storage()\n",
    "        \n",
    "#         self.rewards[self.t - self.t_start -1] \\\n",
    "#             = self.xp.array(reward, dtype=self.xp.float32)\n",
    "#         self.states[self.t - self.t_start] = statevar\n",
    "        self.states.append(state)\n",
    "        self.rewards.append(reward)\n",
    "\n",
    "        if self_step % n_steps == 0:\n",
    "            self.update()\n",
    "            \n",
    "        p_out, value = self.model(state)\n",
    "        action = p_out.sample().data    \n",
    "        \n",
    "#         self.actions[self.t - self.t_start] \\\n",
    "#             = action.reshape([-1] + list(self.action_shape))\n",
    "#         self.value_preds[self.t - self.t_start] = value.data\n",
    "        self.actions.append(action) \n",
    "        self.value_preds[self.t - self.t_start] = value.data     \n",
    "\n",
    "        self.steps += 1\n",
    "            \n",
    "        return action\n",
    "    \n",
    "    def act(self, obs):\n",
    "        pass"
   ]
  },
  {
   "cell_type": "code",
   "execution_count": null,
   "metadata": {
    "collapsed": true
   },
   "outputs": [],
   "source": []
  },
  {
   "cell_type": "code",
   "execution_count": null,
   "metadata": {
    "collapsed": true
   },
   "outputs": [],
   "source": [
    "class QFunction(chainer.Chain):\n",
    "\n",
    "    def __init__(self, obs_size, n_actions, n_hidden_channels=50):\n",
    "        super().__init__()\n",
    "        with self.init_scope():\n",
    "            self.l0 = L.Linear(obs_size, n_hidden_channels)\n",
    "            self.l1 = L.Linear(n_hidden_channels, n_hidden_channels)\n",
    "            self.l2 = L.Linear(n_hidden_channels, n_actions)\n",
    "\n",
    "    def __call__(self, x, test=False):\n",
    "        \"\"\"\n",
    "        Args:\n",
    "            x (ndarray or chainer.Variable): An observation\n",
    "            test (bool): a flag indicating whether it is in test mode\n",
    "        \"\"\"\n",
    "        h = F.tanh(self.l0(x))\n",
    "        h = F.tanh(self.l1(h))\n",
    "        return chainerrl.action_value.DiscreteActionValue(self.l2(h))\n",
    "\n",
    "obs_size = env.observation_space.shape[0]\n",
    "n_actions = env.action_space.n\n",
    "q_func = QFunction(obs_size, n_actions)"
   ]
  },
  {
   "cell_type": "code",
   "execution_count": null,
   "metadata": {
    "collapsed": true
   },
   "outputs": [],
   "source": []
  },
  {
   "cell_type": "code",
   "execution_count": null,
   "metadata": {
    "collapsed": true
   },
   "outputs": [],
   "source": [
    "import chainer \n",
    "import chainer.functions as F\n",
    "import chainer.links as L\n",
    "import chainerrl\n",
    "import gym\n",
    "import numpy as np\n",
    "\n",
    "from chainer import cuda\n",
    "\n",
    "import datetime\n",
    "from skimage.color import rgb2gray\n",
    "from skimage.transform import resize\n",
    "\n",
    "env = gym.make('Breakout-v0')\n",
    "obs = env.reset()\n",
    "\n",
    "print(\"observation space   : {}\".format(env.observation_space))\n",
    "print(\"action space        : {}\".format(env.action_space))\n",
    "\n",
    "action = env.action_space.sample()\n",
    "obs, r, done, info = env.step(action)\n",
    "class QFunction(chainer.Chain):\n",
    "def __init__(self,obs_size, n_action):\n",
    "    super(QFunction, self).__init__(\n",
    "        l1=L.Convolution2D(obs_size, 4, ksize=2,pad=1),#210x160\n",
    "        bn1=L.BatchNormalization(4),\n",
    "        l2=L.Convolution2D(4, 4, ksize=2,pad=1),#105x80\n",
    "        bn2=L.BatchNormalization(4),\n",
    "        #l3=L.Convolution2D(64, 64, ksize=2, pad=1),#100x100\n",
    "        #bn3=L.BatchNormalization(64),\n",
    "        #l4=L.Convolution2D(64, 3, ksize=2,pad=1),#50x50\n",
    "       # bn4=L.BatchNormalization(3),\n",
    "\n",
    "        l5=L.Linear(972, 512),\n",
    "        out=L.Linear(512, n_action, initialW=np.zeros((n_action, 512), dtype=np.float32))\n",
    "    )\n",
    "\n",
    "def __call__(self, x, test=False):\n",
    "\n",
    "    h1=F.relu(self.bn1(self.l1(x)))\n",
    "    h2=F.max_pooling_2d(F.relu(self.bn2(self.l2(h1))),2)\n",
    "    #h3=F.relu(self.bn3(self.l3(h2)))\n",
    "    #h4=F.max_pooling_2d(F.relu(self.bn4(self.l4(h3))),2)\n",
    "    #print h4.shape\n",
    "\n",
    "    return chainerrl.action_value.DiscreteActionValue(self.out(self.l5(h2)))\n",
    "\n",
    "n_action = env.action_space.n\n",
    "obs_size = env.observation_space.shape[0] #(210,160,3)\n",
    "q_func = QFunction(obs_size, n_action)\n",
    "\n",
    "optimizer = chainer.optimizers.Adam(eps=1e-2)\n",
    "optimizer.setup(q_func)\n",
    "\n",
    "gamma = 0.99\n",
    "\n",
    "explorer = chainerrl.explorers.ConstantEpsilonGreedy(\n",
    "epsilon=0.2, random_action_func=env.action_space.sample)\n",
    "\n",
    "replay_buffer = chainerrl.replay_buffer.ReplayBuffer(capacity=10 ** 6)\n",
    "\n",
    "phi = lambda x: x.astype(np.float32, copy=False)\n",
    "agent = chainerrl.agents.DoubleDQN(\n",
    "q_func, optimizer, replay_buffer, gamma, explorer,\n",
    "minibatch_size=4, replay_start_size=100, update_interval=10,\n",
    "target_update_interval=10, phi=phi)\n",
    "\n",
    "last_time = datetime.datetime.now()\n",
    "n_episodes = 10000\n",
    "for i in range(1, n_episodes + 1):\n",
    "obs = env.reset()\n",
    "\n",
    "reward = 0\n",
    "done = False\n",
    "R = 0\n",
    "\n",
    "while not done:\n",
    "    env.render()\n",
    "    action = agent.act_and_train(obs, reward)\n",
    "    obs, reward, done, _ = env.step(action)\n",
    "\n",
    "\n",
    "    if reward != 0:\n",
    "        R += reward\n",
    "\n",
    "elapsed_time = datetime.datetime.now() - last_time\n",
    "print('episode:', i, \n",
    "      'reward:', R,\n",
    "     )\n",
    "last_time = datetime.datetime.now()\n",
    "\n",
    "if i % 100 == 0:\n",
    "    filename = 'agent_Breakout' + str(i)\n",
    "    agent.save(filename)\n",
    "\n",
    "agent.stop_episode_and_train(obs, reward, done)\n",
    "print('Finished.')"
   ]
  },
  {
   "cell_type": "code",
   "execution_count": null,
   "metadata": {
    "collapsed": true
   },
   "outputs": [],
   "source": []
  },
  {
   "cell_type": "code",
   "execution_count": null,
   "metadata": {
    "collapsed": true
   },
   "outputs": [],
   "source": []
  },
  {
   "cell_type": "code",
   "execution_count": null,
   "metadata": {
    "collapsed": true
   },
   "outputs": [],
   "source": []
  },
  {
   "cell_type": "markdown",
   "metadata": {},
   "source": [
    "Layer freezing."
   ]
  },
  {
   "cell_type": "code",
   "execution_count": 29,
   "metadata": {},
   "outputs": [
    {
     "name": "stdout",
     "output_type": "stream",
     "text": [
      "conv1 weights: [[[[ 1.]]]]\n",
      "l1 weigths: [[ 1.  1.  1.  1.]]\n",
      "conv1 grad [[[[ 0.19457532]]]]\n",
      "after update...\n",
      "conv1 weights: [[[[ 1.]]]]\n",
      "l1 weights: [[ 0.99955279  0.99984294  0.99892896  0.99972951]]\n"
     ]
    }
   ],
   "source": [
    "class CNN(chainer.Chain):\n",
    "    \n",
    "    def __init__(self, train=True):\n",
    "        super(CNN, self).__init__(\n",
    "            conv1 = L.Convolution2D(1, 1, 1, initialW=np.array([[[[1]]]])) ,\n",
    "            l1 = L.Linear(None, 1, initialW=np.array([[1,1,1,1]]))  \n",
    "        )\n",
    "\n",
    "    def __call__(self, x):\n",
    "        h = F.relu(self.conv1(x))\n",
    "        h = F.sigmoid(self.l1(h))\n",
    "        return h\n",
    "\n",
    "\n",
    "net = CNN()\n",
    "net.cleargrads()\n",
    "optimizer = chainer.optimizers.SGD()\n",
    "optimizer.setup(net)\n",
    "\n",
    "optimizer.setup(net)\n",
    "net.conv1.W.update_rule.enabled = False\n",
    "# net.conv1.disable_update()  # also works\n",
    "\n",
    "result = net(np.random.random((1,1,2,2)).astype(np.float32))\n",
    "print(\"conv1 weights:\",net.conv1.W.data)\n",
    "print(\"l1 weigths:\",net.l1.W.data)\n",
    "loss = F.mean_absolute_error(result,np.array([[0.1]],dtype=np.float32))\n",
    "loss.backward()\n",
    "optimizer.update()\n",
    "print(\"conv1 grad\",net.conv1.W.grad)\n",
    "print(\"after update...\")\n",
    "print(\"conv1 weights:\",net.conv1.W.data)\n",
    "print(\"l1 weights:\",net.l1.W.data)"
   ]
  }
 ],
 "metadata": {
  "kernelspec": {
   "display_name": "Python [conda env:gym]",
   "language": "python",
   "name": "conda-env-gym-py"
  },
  "language_info": {
   "codemirror_mode": {
    "name": "ipython",
    "version": 3
   },
   "file_extension": ".py",
   "mimetype": "text/x-python",
   "name": "python",
   "nbconvert_exporter": "python",
   "pygments_lexer": "ipython3",
   "version": "3.6.2"
  }
 },
 "nbformat": 4,
 "nbformat_minor": 2
}
